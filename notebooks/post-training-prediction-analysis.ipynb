{
 "cells": [
  {
   "cell_type": "markdown",
   "id": "e8f91e9e-faea-488b-9d8e-5639baf6a29b",
   "metadata": {},
   "source": [
    "# Certainty Based Prediction Analysis\n",
    "\n",
    "- So far our models are not powerful enough to be useful.\n",
    "- So we should consider two metrics.\n",
    "- Single prediction entropy and play-average entropy.\n",
    "- The intuition between play-average entropy is that we have more certainty about the play as a whole instead of just that one prediction.\n",
    "\n",
    "We can see in both instances that low entropy predictions, both by play AND by individual predictions are more accurate.\n",
    "\n",
    "This approach offers slightly higher coverage and better top 3 accuracy than simple probability cutoff."
   ]
  },
  {
   "cell_type": "code",
   "execution_count": 1,
   "id": "c474dba0-2717-4a36-8914-ca870fd53ee2",
   "metadata": {},
   "outputs": [],
   "source": [
    "import random\n",
    "random.seed(42)  # Replace 42 with your desired seed value\n",
    "\n",
    "import warnings\n",
    "warnings.filterwarnings('ignore')"
   ]
  },
  {
   "cell_type": "code",
   "execution_count": 2,
   "id": "918a83d0-7f9c-464f-80c7-3d1d1095a62b",
   "metadata": {},
   "outputs": [],
   "source": [
    "%load_ext autoreload\n",
    "%autoreload 2"
   ]
  },
  {
   "cell_type": "code",
   "execution_count": 3,
   "id": "dcfc88fa-8a5d-4eb4-b5cf-76578658cc20",
   "metadata": {},
   "outputs": [],
   "source": [
    "from nfl_data_bowl.data_utils.data_common import load_and_filter_data, filter_passing_plays_only, process_game_scores\n",
    "from nfl_data_bowl.data_utils.data_historical import (\n",
    "    HistoricalMultiRoutePlayDataset,\n",
    "    create_game_play_pairs,\n",
    "    create_batch_data,\n",
    "    process_game_scores,\n",
    "    DataMappings,\n",
    "    create_week_stratified_split\n",
    ")\n",
    "from nfl_data_bowl.train import train_route_predictor, MultiRouteLoss\n",
    "from torch_geometric.loader import DataLoader\n",
    "import torch\n",
    "from nfl_data_bowl.utils.evaluate import analyze_distributional_drift, classification_report, plot_rolling_performance, plot_metrics_across_datasets, evaluate_route_predictions_table\n",
    "import numpy as np\n",
    "import pandas as pd\n",
    "from nfl_data_bowl.utils.evaluate import evaluate_route_predictions_table\n",
    "import pickle\n",
    "from nfl_data_bowl.models.gnn_historical_enhanced import PlayGNN\n",
    "import xgboost as xgb\n",
    "from nfl_data_bowl.data_utils.data_xgb import get_players_by_frame, join_receiver_analysis_to_df\n",
    "from nfl_data_bowl.train_xgb import train_route_prediction_pipeline, prepare_route_prediction_data\n",
    "from nfl_data_bowl.utils.detailed_evaluation import groupby_entropy_and_accuracy, plot_entropy_and_accuracy, accuracy_report_by_entropy, get_high_confidence_metrics, print_metrics_summary\n",
    "import matplotlib.pyplot as plt"
   ]
  },
  {
   "cell_type": "code",
   "execution_count": 4,
   "id": "5fd9ffaa-2acf-4e1e-ad10-4d62c825b777",
   "metadata": {},
   "outputs": [
    {
     "name": "stdout",
     "output_type": "stream",
     "text": [
      "loaded\n",
      "merged player play\n",
      "merged plays\n",
      "Dropped wasInitialPassRusher due to 100.00% missing values\n",
      "Dropped timeToPressureAsPassRusher due to 100.00% missing values\n",
      "Dropped getOffTimeAsPassRusher due to 100.00% missing values\n",
      "Dropped wasRunningRoute due to 75.90% missing values\n",
      "Dropped blockedPlayerNFLId1 due to 72.42% missing values\n",
      "Dropped blockedPlayerNFLId2 due to 97.42% missing values\n",
      "Dropped blockedPlayerNFLId3 due to 100.00% missing values\n",
      "Dropped pressureAllowedAsBlocker due to 70.23% missing values\n",
      "Dropped timeToPressureAllowedAsBlocker due to 97.65% missing values\n",
      "Dropped pff_primaryDefensiveCoverageMatchupNflId due to 100.00% missing values\n",
      "Dropped pff_secondaryDefensiveCoverageMatchupNflId due to 100.00% missing values\n",
      "Dropped passLength due to 46.45% missing values\n",
      "Dropped targetX due to 48.66% missing values\n",
      "Dropped targetY due to 48.66% missing values\n",
      "Dropped dropbackDistance due to 37.08% missing values\n",
      "Dropped timeToThrow due to 46.54% missing values\n",
      "Dropped timeInTackleBox due to 45.08% missing values\n",
      "Dropped timeToSack due to 96.03% missing values\n",
      "Dropped penaltyYards_y due to 97.86% missing values\n",
      "Keeping 99.90% missing values in penaltyNames as N/A\n",
      "Keeping 43.95% missing values in inMotionAtBallSnap as N/A\n",
      "Filled 0.47% missing values in shiftSinceLineset with mode\n",
      "Keeping 56.43% missing values in motionSinceLineset as N/A\n",
      "Keeping 100.00% missing values in pff_defensiveCoverageAssignment as N/A\n",
      "Filled 1.25% missing values in yardlineSide with mode\n",
      "Filled 0.98% missing values in offenseFormation with mode\n",
      "Filled 0.98% missing values in receiverAlignment with mode\n",
      "Keeping 39.87% missing values in passResult as N/A\n",
      "Keeping 36.40% missing values in dropbackType as N/A\n",
      "Keeping 42.57% missing values in passLocationType as N/A\n",
      "Keeping 42.47% missing values in passTippedAtLine as N/A\n",
      "Keeping 39.57% missing values in unblockedPressure as N/A\n",
      "Keeping 42.47% missing values in qbSpike as N/A\n",
      "Keeping 57.53% missing values in qbSneak as N/A\n",
      "Keeping 57.53% missing values in rushLocationType as N/A\n",
      "Keeping 43.66% missing values in pff_runConceptPrimary as N/A\n",
      "Keeping 81.45% missing values in pff_runConceptSecondary as N/A\n",
      "Filled 1.02% missing values in pff_passCoverage with mode\n",
      "Filled 1.02% missing values in pff_manZone with mode\n",
      "Keeping 23.40% missing values in birthDate as N/A\n",
      "Missing value handling completed\n",
      "(3982, 2)\n",
      "(72847, 109)\n",
      "(43803, 109)\n",
      "(43803, 112)\n"
     ]
    }
   ],
   "source": [
    "def count_parameters(model):\n",
    "    total_params = sum(p.numel() for p in model.parameters())\n",
    "    return total_params\n",
    "\n",
    "import warnings\n",
    "\n",
    "tracking = load_and_filter_data(weeks=list(range(6,10)), base_path=\"..\")\n",
    "tracking_passing_only = filter_passing_plays_only(tracking)\n",
    "tracking_passing_only = process_game_scores(tracking_passing_only)\n",
    "tracking_passing_only = tracking_passing_only.sort_values(by=[\"time\"])\n",
    "print(tracking_passing_only.shape)"
   ]
  },
  {
   "cell_type": "markdown",
   "id": "f34a54e2-c4c4-4603-a137-fb4554c49e82",
   "metadata": {},
   "source": [
    "## Re-generate Datasets"
   ]
  },
  {
   "cell_type": "code",
   "execution_count": 5,
   "id": "5a8005ff-3079-489f-9fba-938534145a26",
   "metadata": {},
   "outputs": [],
   "source": [
    "tracking_passing_only.loc[\n",
    "    (tracking_passing_only.routeRan.isna()) & (tracking_passing_only.position.isin(('WR', 'TE', 'RB'))), \n",
    "     'routeRan'\n",
    "] = 'BLOCKING'"
   ]
  },
  {
   "cell_type": "code",
   "execution_count": 6,
   "id": "c995dcc4-47b0-4924-8f47-b5efafbf87bd",
   "metadata": {},
   "outputs": [
    {
     "name": "stdout",
     "output_type": "stream",
     "text": [
      "13\n"
     ]
    },
    {
     "data": {
      "text/plain": [
       "['ANGLE',\n",
       " 'BLOCKING',\n",
       " 'CORNER',\n",
       " 'CROSS',\n",
       " 'FLAT',\n",
       " 'GO',\n",
       " 'HITCH',\n",
       " 'IN',\n",
       " 'OUT',\n",
       " 'POST',\n",
       " 'SCREEN',\n",
       " 'SLANT',\n",
       " 'WHEEL']"
      ]
     },
     "execution_count": 6,
     "metadata": {},
     "output_type": "execute_result"
    }
   ],
   "source": [
    "unique_routes = sorted([route for route in tracking_passing_only.routeRan.unique() if not pd.isna(route)])\n",
    "print(len(unique_routes))\n",
    "unique_routes"
   ]
  },
  {
   "cell_type": "code",
   "execution_count": 7,
   "id": "86839ea5-b0de-4359-b8f4-93b4d973216e",
   "metadata": {},
   "outputs": [],
   "source": [
    "with open(\"mapping.pkl\", \"rb\") as f:\n",
    "    mappings = pickle.load(f)"
   ]
  },
  {
   "cell_type": "code",
   "execution_count": 8,
   "id": "bf7bfe8a-069f-4a66-bf4b-a50c0d809d52",
   "metadata": {},
   "outputs": [
    {
     "name": "stdout",
     "output_type": "stream",
     "text": [
      "Precomputing graphs using team-based parallel processing\n"
     ]
    },
    {
     "name": "stderr",
     "output_type": "stream",
     "text": [
      "Processing team chunks: 100%|████████████████████████████████████████████████████████████████████████████████████| 8/8 [00:08<00:00,  1.06s/it]\n"
     ]
    }
   ],
   "source": [
    "dataset = HistoricalMultiRoutePlayDataset(\n",
    "    df=tracking_passing_only,\n",
    "    game_play_pairs=create_game_play_pairs(tracking_passing_only),\n",
    "    target_df=tracking_passing_only[['gameId','playId','routeRan']],\n",
    "    offense_positions=['QB', 'RB', 'WR', 'TE'],\n",
    "    defense_positions=['CB', 'SS', 'FS', 'LB', 'OLB', 'ILB'],\n",
    "    eligible_positions=['WR', 'TE', 'RB'],\n",
    "    n_frames=1,\n",
    "    device='cpu',\n",
    "    unique_routes=unique_routes,\n",
    "    mappings=mappings,  # Pass the mappings object\n",
    "    n_workers=8,\n",
    "    teams_per_chunk=4,\n",
    "    max_history_plays=6,\n",
    "    augment=False,\n",
    "    do_not_augment_weeks=[7, 8]\n",
    ")"
   ]
  },
  {
   "cell_type": "code",
   "execution_count": 9,
   "id": "864a715c-5b88-4a84-a0c1-aedf965a36f2",
   "metadata": {},
   "outputs": [],
   "source": [
    "train_weeks = list(range(5,6))\n",
    "val_weeks = list(range(6,8))\n",
    "test_weeks = list(range(8,10))"
   ]
  },
  {
   "cell_type": "code",
   "execution_count": 10,
   "id": "d73eb444-5a41-4d67-bef9-c32d5b43938d",
   "metadata": {
    "jupyter": {
     "source_hidden": true
    }
   },
   "outputs": [
    {
     "name": "stdout",
     "output_type": "stream",
     "text": [
      "Train set size: 0\n",
      "Validation set size: 2022\n",
      "Test set size: 1960\n",
      "Train weeks: [5]\n",
      "Validation weeks: [6, 7]\n",
      "Test weeks: [8, 9]\n"
     ]
    }
   ],
   "source": [
    "train_loader, val_loader, test_loader, indices, week_ranges = create_week_stratified_split(\n",
    "        dataset, \n",
    "        train_weeks=train_weeks,\n",
    "        val_weeks=val_weeks,\n",
    "        test_weeks=test_weeks,\n",
    "        # train_weeks=list(range(1,3)),\n",
    "        # val_weeks=list(range(3,4)),\n",
    "        # test_weeks=list(range(3,4)),\n",
    "        batch_size=128, \n",
    "        random_seed=42,\n",
    "        preserve_time_order=False,\n",
    "        val_random=False  # Whether to randomly sample validation set from train period\n",
    ")"
   ]
  },
  {
   "cell_type": "markdown",
   "id": "ea4178f6-a79a-40a2-8939-ffa0c5ecda4f",
   "metadata": {},
   "source": [
    "## GNN Predictions"
   ]
  },
  {
   "cell_type": "code",
   "execution_count": 11,
   "id": "e887f9d6-10c1-4220-b516-4955a5aec506",
   "metadata": {
    "jupyter": {
     "source_hidden": true
    }
   },
   "outputs": [],
   "source": [
    "model = PlayGNN(\n",
    "    num_positions=20,\n",
    "    hidden_dim=48,\n",
    "    num_gnn_layers=3,\n",
    "    num_route_classes=dataset.num_route_classes, # for -1 or NaN\n",
    "    dropout=0.05,\n",
    "    max_downs=4,\n",
    "    max_quarters=5,\n",
    "    num_teams=32,\n",
    ")"
   ]
  },
  {
   "cell_type": "code",
   "execution_count": 12,
   "id": "d02a8dfb-fe5c-405d-90b4-863d2d648e21",
   "metadata": {},
   "outputs": [
    {
     "data": {
      "text/plain": [
       "PlayGNN(\n",
       "  (position_embedding): Embedding(20, 4)\n",
       "  (down_emb): Embedding(4, 2)\n",
       "  (quarter_emb): Embedding(5, 2)\n",
       "  (team_emb): Embedding(32, 8)\n",
       "  (player_emb): Embedding(1000, 16)\n",
       "  (gnn_layers): ModuleList(\n",
       "    (0): GATv2Conv(41, 48, heads=2)\n",
       "    (1-2): 2 x EnhancedGATBlock(\n",
       "      (gat): GATv2Conv(48, 48, heads=2)\n",
       "      (norm): LayerNorm((48,), eps=1e-05, elementwise_affine=True)\n",
       "      (dropout): Dropout(p=0.05, inplace=False)\n",
       "    )\n",
       "  )\n",
       "  (frame_lstm): LSTM(48, 48, num_layers=2, batch_first=True, dropout=0.05, bidirectional=True)\n",
       "  (historical_attention): MultiheadAttention(\n",
       "    (out_proj): NonDynamicallyQuantizableLinear(in_features=96, out_features=96, bias=True)\n",
       "  )\n",
       "  (mlp): Sequential(\n",
       "    (0): Linear(in_features=240, out_features=96, bias=True)\n",
       "    (1): LayerNorm((96,), eps=1e-05, elementwise_affine=True)\n",
       "    (2): GELU(approximate='none')\n",
       "    (3): Dropout(p=0.05, inplace=False)\n",
       "    (4): Linear(in_features=96, out_features=48, bias=True)\n",
       "    (5): LayerNorm((48,), eps=1e-05, elementwise_affine=True)\n",
       "    (6): GELU(approximate='none')\n",
       "    (7): Dropout(p=0.05, inplace=False)\n",
       "    (8): Linear(in_features=48, out_features=16, bias=True)\n",
       "    (9): GELU(approximate='none')\n",
       "    (10): LayerNorm((16,), eps=1e-05, elementwise_affine=True)\n",
       "    (11): Dropout(p=0.05, inplace=False)\n",
       "    (12): Linear(in_features=16, out_features=13, bias=True)\n",
       "  )\n",
       ")"
      ]
     },
     "execution_count": 12,
     "metadata": {},
     "output_type": "execute_result"
    }
   ],
   "source": [
    "PATH = \"model_1_6.pt\"\n",
    "model.load_state_dict(torch.load(PATH, weights_only=True))\n",
    "model.eval()"
   ]
  },
  {
   "cell_type": "code",
   "execution_count": 13,
   "id": "93b29b2e-9ec4-45ff-8ee5-b595086aa713",
   "metadata": {},
   "outputs": [
    {
     "name": "stdout",
     "output_type": "stream",
     "text": [
      "\n",
      "=== Per-Class Performance ===\n"
     ]
    },
    {
     "data": {
      "text/html": [
       "<style type=\"text/css\">\n",
       "#T_12758_row0_col0, #T_12758_row0_col1, #T_12758_row0_col2, #T_12758_row0_col3, #T_12758_row0_col4, #T_12758_row0_col5, #T_12758_row0_col6, #T_12758_row1_col0, #T_12758_row1_col1, #T_12758_row1_col2, #T_12758_row1_col3, #T_12758_row1_col4, #T_12758_row1_col5, #T_12758_row1_col6, #T_12758_row2_col0, #T_12758_row2_col1, #T_12758_row2_col2, #T_12758_row2_col3, #T_12758_row2_col4, #T_12758_row2_col5, #T_12758_row2_col6, #T_12758_row3_col0, #T_12758_row3_col1, #T_12758_row3_col2, #T_12758_row3_col3, #T_12758_row3_col4, #T_12758_row3_col5, #T_12758_row3_col6, #T_12758_row4_col0, #T_12758_row4_col1, #T_12758_row4_col2, #T_12758_row4_col3, #T_12758_row4_col4, #T_12758_row4_col5, #T_12758_row4_col6, #T_12758_row5_col0, #T_12758_row5_col1, #T_12758_row5_col2, #T_12758_row5_col3, #T_12758_row5_col4, #T_12758_row5_col5, #T_12758_row5_col6, #T_12758_row6_col0, #T_12758_row6_col1, #T_12758_row6_col2, #T_12758_row6_col3, #T_12758_row6_col4, #T_12758_row6_col5, #T_12758_row6_col6, #T_12758_row7_col0, #T_12758_row7_col1, #T_12758_row7_col2, #T_12758_row7_col3, #T_12758_row7_col4, #T_12758_row7_col5, #T_12758_row7_col6, #T_12758_row8_col0, #T_12758_row8_col1, #T_12758_row8_col2, #T_12758_row8_col3, #T_12758_row8_col4, #T_12758_row8_col5, #T_12758_row8_col6, #T_12758_row9_col0, #T_12758_row9_col1, #T_12758_row9_col2, #T_12758_row9_col3, #T_12758_row9_col4, #T_12758_row9_col5, #T_12758_row9_col6, #T_12758_row10_col0, #T_12758_row10_col1, #T_12758_row10_col2, #T_12758_row10_col3, #T_12758_row10_col4, #T_12758_row10_col5, #T_12758_row10_col6, #T_12758_row11_col0, #T_12758_row11_col1, #T_12758_row11_col2, #T_12758_row11_col3, #T_12758_row11_col4, #T_12758_row11_col5, #T_12758_row11_col6, #T_12758_row12_col0, #T_12758_row12_col1, #T_12758_row12_col2, #T_12758_row12_col3, #T_12758_row12_col4, #T_12758_row12_col5, #T_12758_row12_col6 {\n",
       "  text-align: center;\n",
       "  padding: 8px;\n",
       "}\n",
       "</style>\n",
       "<table id=\"T_12758\">\n",
       "  <thead>\n",
       "    <tr>\n",
       "      <th class=\"blank level0\" >&nbsp;</th>\n",
       "      <th id=\"T_12758_level0_col0\" class=\"col_heading level0 col0\" >Route</th>\n",
       "      <th id=\"T_12758_level0_col1\" class=\"col_heading level0 col1\" >Actual Count</th>\n",
       "      <th id=\"T_12758_level0_col2\" class=\"col_heading level0 col2\" >Predicted Count</th>\n",
       "      <th id=\"T_12758_level0_col3\" class=\"col_heading level0 col3\" >Precision</th>\n",
       "      <th id=\"T_12758_level0_col4\" class=\"col_heading level0 col4\" >Recall</th>\n",
       "      <th id=\"T_12758_level0_col5\" class=\"col_heading level0 col5\" >F1-score</th>\n",
       "      <th id=\"T_12758_level0_col6\" class=\"col_heading level0 col6\" >Support</th>\n",
       "    </tr>\n",
       "  </thead>\n",
       "  <tbody>\n",
       "    <tr>\n",
       "      <th id=\"T_12758_level0_row0\" class=\"row_heading level0 row0\" >0</th>\n",
       "      <td id=\"T_12758_row0_col0\" class=\"data row0 col0\" >ANGLE</td>\n",
       "      <td id=\"T_12758_row0_col1\" class=\"data row0 col1\" >344</td>\n",
       "      <td id=\"T_12758_row0_col2\" class=\"data row0 col2\" >413</td>\n",
       "      <td id=\"T_12758_row0_col3\" class=\"data row0 col3\" >0.218</td>\n",
       "      <td id=\"T_12758_row0_col4\" class=\"data row0 col4\" >0.262</td>\n",
       "      <td id=\"T_12758_row0_col5\" class=\"data row0 col5\" >0.238</td>\n",
       "      <td id=\"T_12758_row0_col6\" class=\"data row0 col6\" >344.000000</td>\n",
       "    </tr>\n",
       "    <tr>\n",
       "      <th id=\"T_12758_level0_row1\" class=\"row_heading level0 row1\" >1</th>\n",
       "      <td id=\"T_12758_row1_col0\" class=\"data row1 col0\" >BLOCKING</td>\n",
       "      <td id=\"T_12758_row1_col1\" class=\"data row1 col1\" >1047</td>\n",
       "      <td id=\"T_12758_row1_col2\" class=\"data row1 col2\" >1177</td>\n",
       "      <td id=\"T_12758_row1_col3\" class=\"data row1 col3\" >0.243</td>\n",
       "      <td id=\"T_12758_row1_col4\" class=\"data row1 col4\" >0.273</td>\n",
       "      <td id=\"T_12758_row1_col5\" class=\"data row1 col5\" >0.257</td>\n",
       "      <td id=\"T_12758_row1_col6\" class=\"data row1 col6\" >1047.000000</td>\n",
       "    </tr>\n",
       "    <tr>\n",
       "      <th id=\"T_12758_level0_row2\" class=\"row_heading level0 row2\" >2</th>\n",
       "      <td id=\"T_12758_row2_col0\" class=\"data row2 col0\" >SCREEN</td>\n",
       "      <td id=\"T_12758_row2_col1\" class=\"data row2 col1\" >377</td>\n",
       "      <td id=\"T_12758_row2_col2\" class=\"data row2 col2\" >155</td>\n",
       "      <td id=\"T_12758_row2_col3\" class=\"data row2 col3\" >0.187</td>\n",
       "      <td id=\"T_12758_row2_col4\" class=\"data row2 col4\" >0.077</td>\n",
       "      <td id=\"T_12758_row2_col5\" class=\"data row2 col5\" >0.109</td>\n",
       "      <td id=\"T_12758_row2_col6\" class=\"data row2 col6\" >377.000000</td>\n",
       "    </tr>\n",
       "    <tr>\n",
       "      <th id=\"T_12758_level0_row3\" class=\"row_heading level0 row3\" >3</th>\n",
       "      <td id=\"T_12758_row3_col0\" class=\"data row3 col0\" >SLANT</td>\n",
       "      <td id=\"T_12758_row3_col1\" class=\"data row3 col1\" >526</td>\n",
       "      <td id=\"T_12758_row3_col2\" class=\"data row3 col2\" >237</td>\n",
       "      <td id=\"T_12758_row3_col3\" class=\"data row3 col3\" >0.139</td>\n",
       "      <td id=\"T_12758_row3_col4\" class=\"data row3 col4\" >0.063</td>\n",
       "      <td id=\"T_12758_row3_col5\" class=\"data row3 col5\" >0.087</td>\n",
       "      <td id=\"T_12758_row3_col6\" class=\"data row3 col6\" >526.000000</td>\n",
       "    </tr>\n",
       "    <tr>\n",
       "      <th id=\"T_12758_level0_row4\" class=\"row_heading level0 row4\" >4</th>\n",
       "      <td id=\"T_12758_row4_col0\" class=\"data row4 col0\" >WHEEL</td>\n",
       "      <td id=\"T_12758_row4_col1\" class=\"data row4 col1\" >38</td>\n",
       "      <td id=\"T_12758_row4_col2\" class=\"data row4 col2\" >5</td>\n",
       "      <td id=\"T_12758_row4_col3\" class=\"data row4 col3\" >0.000</td>\n",
       "      <td id=\"T_12758_row4_col4\" class=\"data row4 col4\" >0.000</td>\n",
       "      <td id=\"T_12758_row4_col5\" class=\"data row4 col5\" >0.000</td>\n",
       "      <td id=\"T_12758_row4_col6\" class=\"data row4 col6\" >38.000000</td>\n",
       "    </tr>\n",
       "    <tr>\n",
       "      <th id=\"T_12758_level0_row5\" class=\"row_heading level0 row5\" >5</th>\n",
       "      <td id=\"T_12758_row5_col0\" class=\"data row5 col0\" >CORNER</td>\n",
       "      <td id=\"T_12758_row5_col1\" class=\"data row5 col1\" >370</td>\n",
       "      <td id=\"T_12758_row5_col2\" class=\"data row5 col2\" >167</td>\n",
       "      <td id=\"T_12758_row5_col3\" class=\"data row5 col3\" >0.120</td>\n",
       "      <td id=\"T_12758_row5_col4\" class=\"data row5 col4\" >0.054</td>\n",
       "      <td id=\"T_12758_row5_col5\" class=\"data row5 col5\" >0.074</td>\n",
       "      <td id=\"T_12758_row5_col6\" class=\"data row5 col6\" >370.000000</td>\n",
       "    </tr>\n",
       "    <tr>\n",
       "      <th id=\"T_12758_level0_row6\" class=\"row_heading level0 row6\" >6</th>\n",
       "      <td id=\"T_12758_row6_col0\" class=\"data row6 col0\" >CROSS</td>\n",
       "      <td id=\"T_12758_row6_col1\" class=\"data row6 col1\" >839</td>\n",
       "      <td id=\"T_12758_row6_col2\" class=\"data row6 col2\" >1214</td>\n",
       "      <td id=\"T_12758_row6_col3\" class=\"data row6 col3\" >0.236</td>\n",
       "      <td id=\"T_12758_row6_col4\" class=\"data row6 col4\" >0.342</td>\n",
       "      <td id=\"T_12758_row6_col5\" class=\"data row6 col5\" >0.280</td>\n",
       "      <td id=\"T_12758_row6_col6\" class=\"data row6 col6\" >839.000000</td>\n",
       "    </tr>\n",
       "    <tr>\n",
       "      <th id=\"T_12758_level0_row7\" class=\"row_heading level0 row7\" >7</th>\n",
       "      <td id=\"T_12758_row7_col0\" class=\"data row7 col0\" >FLAT</td>\n",
       "      <td id=\"T_12758_row7_col1\" class=\"data row7 col1\" >1251</td>\n",
       "      <td id=\"T_12758_row7_col2\" class=\"data row7 col2\" >1653</td>\n",
       "      <td id=\"T_12758_row7_col3\" class=\"data row7 col3\" >0.353</td>\n",
       "      <td id=\"T_12758_row7_col4\" class=\"data row7 col4\" >0.466</td>\n",
       "      <td id=\"T_12758_row7_col5\" class=\"data row7 col5\" >0.402</td>\n",
       "      <td id=\"T_12758_row7_col6\" class=\"data row7 col6\" >1251.000000</td>\n",
       "    </tr>\n",
       "    <tr>\n",
       "      <th id=\"T_12758_level0_row8\" class=\"row_heading level0 row8\" >8</th>\n",
       "      <td id=\"T_12758_row8_col0\" class=\"data row8 col0\" >GO</td>\n",
       "      <td id=\"T_12758_row8_col1\" class=\"data row8 col1\" >1678</td>\n",
       "      <td id=\"T_12758_row8_col2\" class=\"data row8 col2\" >2471</td>\n",
       "      <td id=\"T_12758_row8_col3\" class=\"data row8 col3\" >0.304</td>\n",
       "      <td id=\"T_12758_row8_col4\" class=\"data row8 col4\" >0.448</td>\n",
       "      <td id=\"T_12758_row8_col5\" class=\"data row8 col5\" >0.362</td>\n",
       "      <td id=\"T_12758_row8_col6\" class=\"data row8 col6\" >1678.000000</td>\n",
       "    </tr>\n",
       "    <tr>\n",
       "      <th id=\"T_12758_level0_row9\" class=\"row_heading level0 row9\" >9</th>\n",
       "      <td id=\"T_12758_row9_col0\" class=\"data row9 col0\" >HITCH</td>\n",
       "      <td id=\"T_12758_row9_col1\" class=\"data row9 col1\" >1314</td>\n",
       "      <td id=\"T_12758_row9_col2\" class=\"data row9 col2\" >1041</td>\n",
       "      <td id=\"T_12758_row9_col3\" class=\"data row9 col3\" >0.217</td>\n",
       "      <td id=\"T_12758_row9_col4\" class=\"data row9 col4\" >0.172</td>\n",
       "      <td id=\"T_12758_row9_col5\" class=\"data row9 col5\" >0.192</td>\n",
       "      <td id=\"T_12758_row9_col6\" class=\"data row9 col6\" >1314.000000</td>\n",
       "    </tr>\n",
       "    <tr>\n",
       "      <th id=\"T_12758_level0_row10\" class=\"row_heading level0 row10\" >10</th>\n",
       "      <td id=\"T_12758_row10_col0\" class=\"data row10 col0\" >IN</td>\n",
       "      <td id=\"T_12758_row10_col1\" class=\"data row10 col1\" >696</td>\n",
       "      <td id=\"T_12758_row10_col2\" class=\"data row10 col2\" >333</td>\n",
       "      <td id=\"T_12758_row10_col3\" class=\"data row10 col3\" >0.123</td>\n",
       "      <td id=\"T_12758_row10_col4\" class=\"data row10 col4\" >0.059</td>\n",
       "      <td id=\"T_12758_row10_col5\" class=\"data row10 col5\" >0.080</td>\n",
       "      <td id=\"T_12758_row10_col6\" class=\"data row10 col6\" >696.000000</td>\n",
       "    </tr>\n",
       "    <tr>\n",
       "      <th id=\"T_12758_level0_row11\" class=\"row_heading level0 row11\" >11</th>\n",
       "      <td id=\"T_12758_row11_col0\" class=\"data row11 col0\" >OUT</td>\n",
       "      <td id=\"T_12758_row11_col1\" class=\"data row11 col1\" >903</td>\n",
       "      <td id=\"T_12758_row11_col2\" class=\"data row11 col2\" >646</td>\n",
       "      <td id=\"T_12758_row11_col3\" class=\"data row11 col3\" >0.164</td>\n",
       "      <td id=\"T_12758_row11_col4\" class=\"data row11 col4\" >0.117</td>\n",
       "      <td id=\"T_12758_row11_col5\" class=\"data row11 col5\" >0.137</td>\n",
       "      <td id=\"T_12758_row11_col6\" class=\"data row11 col6\" >903.000000</td>\n",
       "    </tr>\n",
       "    <tr>\n",
       "      <th id=\"T_12758_level0_row12\" class=\"row_heading level0 row12\" >12</th>\n",
       "      <td id=\"T_12758_row12_col0\" class=\"data row12 col0\" >POST</td>\n",
       "      <td id=\"T_12758_row12_col1\" class=\"data row12 col1\" >550</td>\n",
       "      <td id=\"T_12758_row12_col2\" class=\"data row12 col2\" >421</td>\n",
       "      <td id=\"T_12758_row12_col3\" class=\"data row12 col3\" >0.145</td>\n",
       "      <td id=\"T_12758_row12_col4\" class=\"data row12 col4\" >0.111</td>\n",
       "      <td id=\"T_12758_row12_col5\" class=\"data row12 col5\" >0.126</td>\n",
       "      <td id=\"T_12758_row12_col6\" class=\"data row12 col6\" >550.000000</td>\n",
       "    </tr>\n",
       "  </tbody>\n",
       "</table>\n"
      ],
      "text/plain": [
       "<IPython.core.display.HTML object>"
      ]
     },
     "metadata": {},
     "output_type": "display_data"
    },
    {
     "name": "stdout",
     "output_type": "stream",
     "text": [
      "\n",
      "=== Top-K Accuracy ===\n"
     ]
    },
    {
     "data": {
      "text/html": [
       "<style type=\"text/css\">\n",
       "#T_96c26_row0_col0, #T_96c26_row0_col1, #T_96c26_row0_col2, #T_96c26_row0_col3 {\n",
       "  text-align: center;\n",
       "  padding: 8px;\n",
       "}\n",
       "</style>\n",
       "<table id=\"T_96c26\">\n",
       "  <thead>\n",
       "    <tr>\n",
       "      <th class=\"blank level0\" >&nbsp;</th>\n",
       "      <th id=\"T_96c26_level0_col0\" class=\"col_heading level0 col0\" >Metric</th>\n",
       "      <th id=\"T_96c26_level0_col1\" class=\"col_heading level0 col1\" >Top-1 (standard)</th>\n",
       "      <th id=\"T_96c26_level0_col2\" class=\"col_heading level0 col2\" >Top-2</th>\n",
       "      <th id=\"T_96c26_level0_col3\" class=\"col_heading level0 col3\" >Top-3</th>\n",
       "    </tr>\n",
       "  </thead>\n",
       "  <tbody>\n",
       "    <tr>\n",
       "      <th id=\"T_96c26_level0_row0\" class=\"row_heading level0 row0\" >0</th>\n",
       "      <td id=\"T_96c26_row0_col0\" class=\"data row0 col0\" >Accuracy Type</td>\n",
       "      <td id=\"T_96c26_row0_col1\" class=\"data row0 col1\" >0.253</td>\n",
       "      <td id=\"T_96c26_row0_col2\" class=\"data row0 col2\" >0.440</td>\n",
       "      <td id=\"T_96c26_row0_col3\" class=\"data row0 col3\" >0.586</td>\n",
       "    </tr>\n",
       "  </tbody>\n",
       "</table>\n"
      ],
      "text/plain": [
       "<IPython.core.display.HTML object>"
      ]
     },
     "metadata": {},
     "output_type": "display_data"
    },
    {
     "name": "stdout",
     "output_type": "stream",
     "text": [
      "\n",
      "=== Uncertainty Metrics ===\n"
     ]
    },
    {
     "data": {
      "text/html": [
       "<style type=\"text/css\">\n",
       "#T_beebd_row0_col0, #T_beebd_row0_col1, #T_beebd_row0_col2, #T_beebd_row0_col3, #T_beebd_row0_col4, #T_beebd_row0_col5 {\n",
       "  text-align: center;\n",
       "  padding: 8px;\n",
       "}\n",
       "</style>\n",
       "<table id=\"T_beebd\">\n",
       "  <thead>\n",
       "    <tr>\n",
       "      <th class=\"blank level0\" >&nbsp;</th>\n",
       "      <th id=\"T_beebd_level0_col0\" class=\"col_heading level0 col0\" >Mean Entropy</th>\n",
       "      <th id=\"T_beebd_level0_col1\" class=\"col_heading level0 col1\" >Median Entropy</th>\n",
       "      <th id=\"T_beebd_level0_col2\" class=\"col_heading level0 col2\" >Mean Normalized Entropy</th>\n",
       "      <th id=\"T_beebd_level0_col3\" class=\"col_heading level0 col3\" >Mean Entropy Margin</th>\n",
       "      <th id=\"T_beebd_level0_col4\" class=\"col_heading level0 col4\" >Mean Log Likelihood</th>\n",
       "      <th id=\"T_beebd_level0_col5\" class=\"col_heading level0 col5\" >Median Log Likelihood</th>\n",
       "    </tr>\n",
       "  </thead>\n",
       "  <tbody>\n",
       "    <tr>\n",
       "      <th id=\"T_beebd_level0_row0\" class=\"row_heading level0 row0\" >0</th>\n",
       "      <td id=\"T_beebd_row0_col0\" class=\"data row0 col0\" >1.702</td>\n",
       "      <td id=\"T_beebd_row0_col1\" class=\"data row0 col1\" >1.743</td>\n",
       "      <td id=\"T_beebd_row0_col2\" class=\"data row0 col2\" >0.460</td>\n",
       "      <td id=\"T_beebd_row0_col3\" class=\"data row0 col3\" >0.171</td>\n",
       "      <td id=\"T_beebd_row0_col4\" class=\"data row0 col4\" >-2.156</td>\n",
       "      <td id=\"T_beebd_row0_col5\" class=\"data row0 col5\" >-1.909</td>\n",
       "    </tr>\n",
       "  </tbody>\n",
       "</table>\n"
      ],
      "text/plain": [
       "<IPython.core.display.HTML object>"
      ]
     },
     "metadata": {},
     "output_type": "display_data"
    },
    {
     "name": "stdout",
     "output_type": "stream",
     "text": [
      "\n",
      "=== Overall Metrics ===\n"
     ]
    },
    {
     "data": {
      "text/html": [
       "<style type=\"text/css\">\n",
       "#T_af64f_row0_col0, #T_af64f_row0_col1, #T_af64f_row0_col2, #T_af64f_row0_col3, #T_af64f_row0_col4, #T_af64f_row1_col0, #T_af64f_row1_col1, #T_af64f_row1_col2, #T_af64f_row1_col3, #T_af64f_row1_col4 {\n",
       "  text-align: center;\n",
       "  padding: 8px;\n",
       "}\n",
       "</style>\n",
       "<table id=\"T_af64f\">\n",
       "  <thead>\n",
       "    <tr>\n",
       "      <th class=\"blank level0\" >&nbsp;</th>\n",
       "      <th id=\"T_af64f_level0_col0\" class=\"col_heading level0 col0\" >Average Type</th>\n",
       "      <th id=\"T_af64f_level0_col1\" class=\"col_heading level0 col1\" >precision</th>\n",
       "      <th id=\"T_af64f_level0_col2\" class=\"col_heading level0 col2\" >recall</th>\n",
       "      <th id=\"T_af64f_level0_col3\" class=\"col_heading level0 col3\" >f1-score</th>\n",
       "      <th id=\"T_af64f_level0_col4\" class=\"col_heading level0 col4\" >support</th>\n",
       "    </tr>\n",
       "  </thead>\n",
       "  <tbody>\n",
       "    <tr>\n",
       "      <th id=\"T_af64f_level0_row0\" class=\"row_heading level0 row0\" >0</th>\n",
       "      <td id=\"T_af64f_row0_col0\" class=\"data row0 col0\" >macro avg</td>\n",
       "      <td id=\"T_af64f_row0_col1\" class=\"data row0 col1\" >0.188</td>\n",
       "      <td id=\"T_af64f_row0_col2\" class=\"data row0 col2\" >0.188</td>\n",
       "      <td id=\"T_af64f_row0_col3\" class=\"data row0 col3\" >0.180</td>\n",
       "      <td id=\"T_af64f_row0_col4\" class=\"data row0 col4\" >9933.000</td>\n",
       "    </tr>\n",
       "    <tr>\n",
       "      <th id=\"T_af64f_level0_row1\" class=\"row_heading level0 row1\" >1</th>\n",
       "      <td id=\"T_af64f_row1_col0\" class=\"data row1 col0\" >weighted avg</td>\n",
       "      <td id=\"T_af64f_row1_col1\" class=\"data row1 col1\" >0.228</td>\n",
       "      <td id=\"T_af64f_row1_col2\" class=\"data row1 col2\" >0.253</td>\n",
       "      <td id=\"T_af64f_row1_col3\" class=\"data row1 col3\" >0.233</td>\n",
       "      <td id=\"T_af64f_row1_col4\" class=\"data row1 col4\" >9933.000</td>\n",
       "    </tr>\n",
       "  </tbody>\n",
       "</table>\n"
      ],
      "text/plain": [
       "<IPython.core.display.HTML object>"
      ]
     },
     "metadata": {},
     "output_type": "display_data"
    }
   ],
   "source": [
    "metrics_gnn, (y_test, y_pred, y_pred_proba, predictions_df) = evaluate_route_predictions_table(\n",
    "    model, val_loader, dataset, \"cpu\", softmax=True\n",
    ")\n",
    "metrics_gnn['display_tables']()"
   ]
  },
  {
   "cell_type": "markdown",
   "id": "f84400bf-8b2f-437c-9f76-5e25d1c1c365",
   "metadata": {},
   "source": [
    "## XGB Predictions"
   ]
  },
  {
   "cell_type": "code",
   "execution_count": 14,
   "id": "43a98b98-b725-4a10-8d35-a4696250e55c",
   "metadata": {
    "jupyter": {
     "source_hidden": true
    }
   },
   "outputs": [
    {
     "name": "stdout",
     "output_type": "stream",
     "text": [
      "500\n",
      "(5489, 121)\n",
      "1000\n",
      "(10990, 121)\n",
      "1500\n",
      "(16490, 121)\n",
      "2000\n",
      "(21990, 121)\n",
      "2500\n",
      "(27490, 121)\n",
      "3000\n",
      "(32990, 121)\n",
      "3500\n",
      "(38490, 121)\n"
     ]
    }
   ],
   "source": [
    "import tqdm\n",
    "\n",
    "# Example usage\n",
    "game_id = 2022091105\n",
    "play_id = 140\n",
    "\n",
    "games = list(tracking_passing_only.gameId.unique())\n",
    "\n",
    "enriched_df = None\n",
    "tracking_subset = tracking_passing_only.copy()\n",
    "tracking_subset[\"distance_from_los\"] = np.abs(tracking_subset[\"x\"] - tracking_subset[\"absoluteYardlineNumber\"])\n",
    "tracking_subset[\"distance_from_sideline\"] = np.minimum(tracking_subset[\"y\"], 53.3 - tracking_subset[\"y\"])\n",
    "pairs = set()\n",
    "for item in list(tracking_subset[['gameId', 'playId']].to_numpy()):\n",
    "    pairs.add((item[0].item(), item[1].item()))\n",
    "i = 0\n",
    "for game_id, play_id in list(pairs):\n",
    "    i += 1\n",
    "    if i % 500 == 0:\n",
    "        print(i)\n",
    "        print(enriched_df.shape)\n",
    "    # Option 2: Use pre-computed frame data\n",
    "    frame_data = get_players_by_frame(tracking_subset[(tracking_subset.gameId == game_id) & (tracking_subset.playId == play_id)])\n",
    "    if enriched_df is None:\n",
    "        enriched_df = join_receiver_analysis_to_df(tracking_subset, game_id, play_id, True, frame_data)\n",
    "    else:\n",
    "        try:\n",
    "            tmp = join_receiver_analysis_to_df(tracking_subset, game_id, play_id, True, frame_data)\n",
    "        except Exception as e:\n",
    "            print(e)\n",
    "            print(f'game, play: {game_id}, {play_id}')\n",
    "        enriched_df = pd.concat([enriched_df, tmp])"
   ]
  },
  {
   "cell_type": "code",
   "execution_count": 15,
   "id": "3c8646ed-de4a-49dd-876c-30a0d5750187",
   "metadata": {
    "jupyter": {
     "source_hidden": true
    }
   },
   "outputs": [],
   "source": [
    "with open(\"xgb_model.pkl\", \"rb\") as f:\n",
    "    xgb_model = pickle.load(f)\n",
    "\n",
    "with open(\"scaler.pkl\", \"rb\") as f:\n",
    "    scaler = pickle.load(f)\n",
    "\n",
    "with open(\"encoders.pkl\", \"rb\") as f:\n",
    "    encoders = pickle.load(f)"
   ]
  },
  {
   "cell_type": "code",
   "execution_count": 16,
   "id": "80e9091a-e6e1-4850-8d81-3f22b55ce2fd",
   "metadata": {},
   "outputs": [
    {
     "name": "stdout",
     "output_type": "stream",
     "text": [
      "Trying XGB\n",
      "\n",
      "=== Per-Class Performance ===\n"
     ]
    },
    {
     "data": {
      "text/html": [
       "<style type=\"text/css\">\n",
       "#T_34501_row0_col0, #T_34501_row0_col1, #T_34501_row0_col2, #T_34501_row0_col3, #T_34501_row0_col4, #T_34501_row0_col5, #T_34501_row0_col6, #T_34501_row1_col0, #T_34501_row1_col1, #T_34501_row1_col2, #T_34501_row1_col3, #T_34501_row1_col4, #T_34501_row1_col5, #T_34501_row1_col6, #T_34501_row2_col0, #T_34501_row2_col1, #T_34501_row2_col2, #T_34501_row2_col3, #T_34501_row2_col4, #T_34501_row2_col5, #T_34501_row2_col6, #T_34501_row3_col0, #T_34501_row3_col1, #T_34501_row3_col2, #T_34501_row3_col3, #T_34501_row3_col4, #T_34501_row3_col5, #T_34501_row3_col6, #T_34501_row4_col0, #T_34501_row4_col1, #T_34501_row4_col2, #T_34501_row4_col3, #T_34501_row4_col4, #T_34501_row4_col5, #T_34501_row4_col6, #T_34501_row5_col0, #T_34501_row5_col1, #T_34501_row5_col2, #T_34501_row5_col3, #T_34501_row5_col4, #T_34501_row5_col5, #T_34501_row5_col6, #T_34501_row6_col0, #T_34501_row6_col1, #T_34501_row6_col2, #T_34501_row6_col3, #T_34501_row6_col4, #T_34501_row6_col5, #T_34501_row6_col6, #T_34501_row7_col0, #T_34501_row7_col1, #T_34501_row7_col2, #T_34501_row7_col3, #T_34501_row7_col4, #T_34501_row7_col5, #T_34501_row7_col6, #T_34501_row8_col0, #T_34501_row8_col1, #T_34501_row8_col2, #T_34501_row8_col3, #T_34501_row8_col4, #T_34501_row8_col5, #T_34501_row8_col6, #T_34501_row9_col0, #T_34501_row9_col1, #T_34501_row9_col2, #T_34501_row9_col3, #T_34501_row9_col4, #T_34501_row9_col5, #T_34501_row9_col6, #T_34501_row10_col0, #T_34501_row10_col1, #T_34501_row10_col2, #T_34501_row10_col3, #T_34501_row10_col4, #T_34501_row10_col5, #T_34501_row10_col6, #T_34501_row11_col0, #T_34501_row11_col1, #T_34501_row11_col2, #T_34501_row11_col3, #T_34501_row11_col4, #T_34501_row11_col5, #T_34501_row11_col6, #T_34501_row12_col0, #T_34501_row12_col1, #T_34501_row12_col2, #T_34501_row12_col3, #T_34501_row12_col4, #T_34501_row12_col5, #T_34501_row12_col6 {\n",
       "  text-align: center;\n",
       "  padding: 8px;\n",
       "}\n",
       "</style>\n",
       "<table id=\"T_34501\">\n",
       "  <thead>\n",
       "    <tr>\n",
       "      <th class=\"blank level0\" >&nbsp;</th>\n",
       "      <th id=\"T_34501_level0_col0\" class=\"col_heading level0 col0\" >Route</th>\n",
       "      <th id=\"T_34501_level0_col1\" class=\"col_heading level0 col1\" >Actual Count</th>\n",
       "      <th id=\"T_34501_level0_col2\" class=\"col_heading level0 col2\" >Predicted Count</th>\n",
       "      <th id=\"T_34501_level0_col3\" class=\"col_heading level0 col3\" >Precision</th>\n",
       "      <th id=\"T_34501_level0_col4\" class=\"col_heading level0 col4\" >Recall</th>\n",
       "      <th id=\"T_34501_level0_col5\" class=\"col_heading level0 col5\" >F1-score</th>\n",
       "      <th id=\"T_34501_level0_col6\" class=\"col_heading level0 col6\" >Support</th>\n",
       "    </tr>\n",
       "  </thead>\n",
       "  <tbody>\n",
       "    <tr>\n",
       "      <th id=\"T_34501_level0_row0\" class=\"row_heading level0 row0\" >0</th>\n",
       "      <td id=\"T_34501_row0_col0\" class=\"data row0 col0\" >ANGLE</td>\n",
       "      <td id=\"T_34501_row0_col1\" class=\"data row0 col1\" >344</td>\n",
       "      <td id=\"T_34501_row0_col2\" class=\"data row0 col2\" >36</td>\n",
       "      <td id=\"T_34501_row0_col3\" class=\"data row0 col3\" >0.472</td>\n",
       "      <td id=\"T_34501_row0_col4\" class=\"data row0 col4\" >0.049</td>\n",
       "      <td id=\"T_34501_row0_col5\" class=\"data row0 col5\" >0.089</td>\n",
       "      <td id=\"T_34501_row0_col6\" class=\"data row0 col6\" >344.000000</td>\n",
       "    </tr>\n",
       "    <tr>\n",
       "      <th id=\"T_34501_level0_row1\" class=\"row_heading level0 row1\" >1</th>\n",
       "      <td id=\"T_34501_row1_col0\" class=\"data row1 col0\" >BLOCKING</td>\n",
       "      <td id=\"T_34501_row1_col1\" class=\"data row1 col1\" >1047</td>\n",
       "      <td id=\"T_34501_row1_col2\" class=\"data row1 col2\" >965</td>\n",
       "      <td id=\"T_34501_row1_col3\" class=\"data row1 col3\" >0.402</td>\n",
       "      <td id=\"T_34501_row1_col4\" class=\"data row1 col4\" >0.371</td>\n",
       "      <td id=\"T_34501_row1_col5\" class=\"data row1 col5\" >0.386</td>\n",
       "      <td id=\"T_34501_row1_col6\" class=\"data row1 col6\" >1047.000000</td>\n",
       "    </tr>\n",
       "    <tr>\n",
       "      <th id=\"T_34501_level0_row2\" class=\"row_heading level0 row2\" >2</th>\n",
       "      <td id=\"T_34501_row2_col0\" class=\"data row2 col0\" >SCREEN</td>\n",
       "      <td id=\"T_34501_row2_col1\" class=\"data row2 col1\" >377</td>\n",
       "      <td id=\"T_34501_row2_col2\" class=\"data row2 col2\" >65</td>\n",
       "      <td id=\"T_34501_row2_col3\" class=\"data row2 col3\" >0.662</td>\n",
       "      <td id=\"T_34501_row2_col4\" class=\"data row2 col4\" >0.114</td>\n",
       "      <td id=\"T_34501_row2_col5\" class=\"data row2 col5\" >0.195</td>\n",
       "      <td id=\"T_34501_row2_col6\" class=\"data row2 col6\" >377.000000</td>\n",
       "    </tr>\n",
       "    <tr>\n",
       "      <th id=\"T_34501_level0_row3\" class=\"row_heading level0 row3\" >3</th>\n",
       "      <td id=\"T_34501_row3_col0\" class=\"data row3 col0\" >SLANT</td>\n",
       "      <td id=\"T_34501_row3_col1\" class=\"data row3 col1\" >526</td>\n",
       "      <td id=\"T_34501_row3_col2\" class=\"data row3 col2\" >49</td>\n",
       "      <td id=\"T_34501_row3_col3\" class=\"data row3 col3\" >0.469</td>\n",
       "      <td id=\"T_34501_row3_col4\" class=\"data row3 col4\" >0.044</td>\n",
       "      <td id=\"T_34501_row3_col5\" class=\"data row3 col5\" >0.080</td>\n",
       "      <td id=\"T_34501_row3_col6\" class=\"data row3 col6\" >526.000000</td>\n",
       "    </tr>\n",
       "    <tr>\n",
       "      <th id=\"T_34501_level0_row4\" class=\"row_heading level0 row4\" >4</th>\n",
       "      <td id=\"T_34501_row4_col0\" class=\"data row4 col0\" >WHEEL</td>\n",
       "      <td id=\"T_34501_row4_col1\" class=\"data row4 col1\" >38</td>\n",
       "      <td id=\"T_34501_row4_col2\" class=\"data row4 col2\" >6</td>\n",
       "      <td id=\"T_34501_row4_col3\" class=\"data row4 col3\" >0.833</td>\n",
       "      <td id=\"T_34501_row4_col4\" class=\"data row4 col4\" >0.132</td>\n",
       "      <td id=\"T_34501_row4_col5\" class=\"data row4 col5\" >0.227</td>\n",
       "      <td id=\"T_34501_row4_col6\" class=\"data row4 col6\" >38.000000</td>\n",
       "    </tr>\n",
       "    <tr>\n",
       "      <th id=\"T_34501_level0_row5\" class=\"row_heading level0 row5\" >5</th>\n",
       "      <td id=\"T_34501_row5_col0\" class=\"data row5 col0\" >CORNER</td>\n",
       "      <td id=\"T_34501_row5_col1\" class=\"data row5 col1\" >370</td>\n",
       "      <td id=\"T_34501_row5_col2\" class=\"data row5 col2\" >81</td>\n",
       "      <td id=\"T_34501_row5_col3\" class=\"data row5 col3\" >0.296</td>\n",
       "      <td id=\"T_34501_row5_col4\" class=\"data row5 col4\" >0.065</td>\n",
       "      <td id=\"T_34501_row5_col5\" class=\"data row5 col5\" >0.106</td>\n",
       "      <td id=\"T_34501_row5_col6\" class=\"data row5 col6\" >370.000000</td>\n",
       "    </tr>\n",
       "    <tr>\n",
       "      <th id=\"T_34501_level0_row6\" class=\"row_heading level0 row6\" >6</th>\n",
       "      <td id=\"T_34501_row6_col0\" class=\"data row6 col0\" >CROSS</td>\n",
       "      <td id=\"T_34501_row6_col1\" class=\"data row6 col1\" >839</td>\n",
       "      <td id=\"T_34501_row6_col2\" class=\"data row6 col2\" >973</td>\n",
       "      <td id=\"T_34501_row6_col3\" class=\"data row6 col3\" >0.319</td>\n",
       "      <td id=\"T_34501_row6_col4\" class=\"data row6 col4\" >0.369</td>\n",
       "      <td id=\"T_34501_row6_col5\" class=\"data row6 col5\" >0.342</td>\n",
       "      <td id=\"T_34501_row6_col6\" class=\"data row6 col6\" >839.000000</td>\n",
       "    </tr>\n",
       "    <tr>\n",
       "      <th id=\"T_34501_level0_row7\" class=\"row_heading level0 row7\" >7</th>\n",
       "      <td id=\"T_34501_row7_col0\" class=\"data row7 col0\" >FLAT</td>\n",
       "      <td id=\"T_34501_row7_col1\" class=\"data row7 col1\" >1251</td>\n",
       "      <td id=\"T_34501_row7_col2\" class=\"data row7 col2\" >2113</td>\n",
       "      <td id=\"T_34501_row7_col3\" class=\"data row7 col3\" >0.425</td>\n",
       "      <td id=\"T_34501_row7_col4\" class=\"data row7 col4\" >0.717</td>\n",
       "      <td id=\"T_34501_row7_col5\" class=\"data row7 col5\" >0.533</td>\n",
       "      <td id=\"T_34501_row7_col6\" class=\"data row7 col6\" >1251.000000</td>\n",
       "    </tr>\n",
       "    <tr>\n",
       "      <th id=\"T_34501_level0_row8\" class=\"row_heading level0 row8\" >8</th>\n",
       "      <td id=\"T_34501_row8_col0\" class=\"data row8 col0\" >GO</td>\n",
       "      <td id=\"T_34501_row8_col1\" class=\"data row8 col1\" >1678</td>\n",
       "      <td id=\"T_34501_row8_col2\" class=\"data row8 col2\" >3311</td>\n",
       "      <td id=\"T_34501_row8_col3\" class=\"data row8 col3\" >0.336</td>\n",
       "      <td id=\"T_34501_row8_col4\" class=\"data row8 col4\" >0.662</td>\n",
       "      <td id=\"T_34501_row8_col5\" class=\"data row8 col5\" >0.445</td>\n",
       "      <td id=\"T_34501_row8_col6\" class=\"data row8 col6\" >1678.000000</td>\n",
       "    </tr>\n",
       "    <tr>\n",
       "      <th id=\"T_34501_level0_row9\" class=\"row_heading level0 row9\" >9</th>\n",
       "      <td id=\"T_34501_row9_col0\" class=\"data row9 col0\" >HITCH</td>\n",
       "      <td id=\"T_34501_row9_col1\" class=\"data row9 col1\" >1314</td>\n",
       "      <td id=\"T_34501_row9_col2\" class=\"data row9 col2\" >1750</td>\n",
       "      <td id=\"T_34501_row9_col3\" class=\"data row9 col3\" >0.239</td>\n",
       "      <td id=\"T_34501_row9_col4\" class=\"data row9 col4\" >0.318</td>\n",
       "      <td id=\"T_34501_row9_col5\" class=\"data row9 col5\" >0.273</td>\n",
       "      <td id=\"T_34501_row9_col6\" class=\"data row9 col6\" >1314.000000</td>\n",
       "    </tr>\n",
       "    <tr>\n",
       "      <th id=\"T_34501_level0_row10\" class=\"row_heading level0 row10\" >10</th>\n",
       "      <td id=\"T_34501_row10_col0\" class=\"data row10 col0\" >IN</td>\n",
       "      <td id=\"T_34501_row10_col1\" class=\"data row10 col1\" >696</td>\n",
       "      <td id=\"T_34501_row10_col2\" class=\"data row10 col2\" >77</td>\n",
       "      <td id=\"T_34501_row10_col3\" class=\"data row10 col3\" >0.390</td>\n",
       "      <td id=\"T_34501_row10_col4\" class=\"data row10 col4\" >0.043</td>\n",
       "      <td id=\"T_34501_row10_col5\" class=\"data row10 col5\" >0.078</td>\n",
       "      <td id=\"T_34501_row10_col6\" class=\"data row10 col6\" >696.000000</td>\n",
       "    </tr>\n",
       "    <tr>\n",
       "      <th id=\"T_34501_level0_row11\" class=\"row_heading level0 row11\" >11</th>\n",
       "      <td id=\"T_34501_row11_col0\" class=\"data row11 col0\" >OUT</td>\n",
       "      <td id=\"T_34501_row11_col1\" class=\"data row11 col1\" >903</td>\n",
       "      <td id=\"T_34501_row11_col2\" class=\"data row11 col2\" >398</td>\n",
       "      <td id=\"T_34501_row11_col3\" class=\"data row11 col3\" >0.284</td>\n",
       "      <td id=\"T_34501_row11_col4\" class=\"data row11 col4\" >0.125</td>\n",
       "      <td id=\"T_34501_row11_col5\" class=\"data row11 col5\" >0.174</td>\n",
       "      <td id=\"T_34501_row11_col6\" class=\"data row11 col6\" >903.000000</td>\n",
       "    </tr>\n",
       "    <tr>\n",
       "      <th id=\"T_34501_level0_row12\" class=\"row_heading level0 row12\" >12</th>\n",
       "      <td id=\"T_34501_row12_col0\" class=\"data row12 col0\" >POST</td>\n",
       "      <td id=\"T_34501_row12_col1\" class=\"data row12 col1\" >550</td>\n",
       "      <td id=\"T_34501_row12_col2\" class=\"data row12 col2\" >109</td>\n",
       "      <td id=\"T_34501_row12_col3\" class=\"data row12 col3\" >0.349</td>\n",
       "      <td id=\"T_34501_row12_col4\" class=\"data row12 col4\" >0.069</td>\n",
       "      <td id=\"T_34501_row12_col5\" class=\"data row12 col5\" >0.115</td>\n",
       "      <td id=\"T_34501_row12_col6\" class=\"data row12 col6\" >550.000000</td>\n",
       "    </tr>\n",
       "  </tbody>\n",
       "</table>\n"
      ],
      "text/plain": [
       "<IPython.core.display.HTML object>"
      ]
     },
     "metadata": {},
     "output_type": "display_data"
    },
    {
     "name": "stdout",
     "output_type": "stream",
     "text": [
      "\n",
      "=== Top-K Accuracy ===\n"
     ]
    },
    {
     "data": {
      "text/html": [
       "<style type=\"text/css\">\n",
       "#T_96250_row0_col0, #T_96250_row0_col1, #T_96250_row0_col2, #T_96250_row0_col3 {\n",
       "  text-align: center;\n",
       "  padding: 8px;\n",
       "}\n",
       "</style>\n",
       "<table id=\"T_96250\">\n",
       "  <thead>\n",
       "    <tr>\n",
       "      <th class=\"blank level0\" >&nbsp;</th>\n",
       "      <th id=\"T_96250_level0_col0\" class=\"col_heading level0 col0\" >Metric</th>\n",
       "      <th id=\"T_96250_level0_col1\" class=\"col_heading level0 col1\" >Top-1 (standard)</th>\n",
       "      <th id=\"T_96250_level0_col2\" class=\"col_heading level0 col2\" >Top-2</th>\n",
       "      <th id=\"T_96250_level0_col3\" class=\"col_heading level0 col3\" >Top-3</th>\n",
       "    </tr>\n",
       "  </thead>\n",
       "  <tbody>\n",
       "    <tr>\n",
       "      <th id=\"T_96250_level0_row0\" class=\"row_heading level0 row0\" >0</th>\n",
       "      <td id=\"T_96250_row0_col0\" class=\"data row0 col0\" >Accuracy Type</td>\n",
       "      <td id=\"T_96250_row0_col1\" class=\"data row0 col1\" >0.344</td>\n",
       "      <td id=\"T_96250_row0_col2\" class=\"data row0 col2\" >0.541</td>\n",
       "      <td id=\"T_96250_row0_col3\" class=\"data row0 col3\" >0.682</td>\n",
       "    </tr>\n",
       "  </tbody>\n",
       "</table>\n"
      ],
      "text/plain": [
       "<IPython.core.display.HTML object>"
      ]
     },
     "metadata": {},
     "output_type": "display_data"
    },
    {
     "name": "stdout",
     "output_type": "stream",
     "text": [
      "\n",
      "=== Uncertainty Metrics ===\n"
     ]
    },
    {
     "data": {
      "text/html": [
       "<style type=\"text/css\">\n",
       "#T_d8071_row0_col0, #T_d8071_row0_col1, #T_d8071_row0_col2, #T_d8071_row0_col3, #T_d8071_row0_col4, #T_d8071_row0_col5 {\n",
       "  text-align: center;\n",
       "  padding: 8px;\n",
       "}\n",
       "</style>\n",
       "<table id=\"T_d8071\">\n",
       "  <thead>\n",
       "    <tr>\n",
       "      <th class=\"blank level0\" >&nbsp;</th>\n",
       "      <th id=\"T_d8071_level0_col0\" class=\"col_heading level0 col0\" >Mean Entropy</th>\n",
       "      <th id=\"T_d8071_level0_col1\" class=\"col_heading level0 col1\" >Median Entropy</th>\n",
       "      <th id=\"T_d8071_level0_col2\" class=\"col_heading level0 col2\" >Mean Normalized Entropy</th>\n",
       "      <th id=\"T_d8071_level0_col3\" class=\"col_heading level0 col3\" >Mean Entropy Margin</th>\n",
       "      <th id=\"T_d8071_level0_col4\" class=\"col_heading level0 col4\" >Mean Log Likelihood</th>\n",
       "      <th id=\"T_d8071_level0_col5\" class=\"col_heading level0 col5\" >Median Log Likelihood</th>\n",
       "    </tr>\n",
       "  </thead>\n",
       "  <tbody>\n",
       "    <tr>\n",
       "      <th id=\"T_d8071_level0_row0\" class=\"row_heading level0 row0\" >0</th>\n",
       "      <td id=\"T_d8071_row0_col0\" class=\"data row0 col0\" >1.898</td>\n",
       "      <td id=\"T_d8071_row0_col1\" class=\"data row0 col1\" >2.044</td>\n",
       "      <td id=\"T_d8071_row0_col2\" class=\"data row0 col2\" >0.513</td>\n",
       "      <td id=\"T_d8071_row0_col3\" class=\"data row0 col3\" >0.120</td>\n",
       "      <td id=\"T_d8071_row0_col4\" class=\"data row0 col4\" >-1.814</td>\n",
       "      <td id=\"T_d8071_row0_col5\" class=\"data row0 col5\" >-1.758</td>\n",
       "    </tr>\n",
       "  </tbody>\n",
       "</table>\n"
      ],
      "text/plain": [
       "<IPython.core.display.HTML object>"
      ]
     },
     "metadata": {},
     "output_type": "display_data"
    },
    {
     "name": "stdout",
     "output_type": "stream",
     "text": [
      "\n",
      "=== Overall Metrics ===\n"
     ]
    },
    {
     "data": {
      "text/html": [
       "<style type=\"text/css\">\n",
       "#T_17b20_row0_col0, #T_17b20_row0_col1, #T_17b20_row0_col2, #T_17b20_row0_col3, #T_17b20_row0_col4, #T_17b20_row1_col0, #T_17b20_row1_col1, #T_17b20_row1_col2, #T_17b20_row1_col3, #T_17b20_row1_col4 {\n",
       "  text-align: center;\n",
       "  padding: 8px;\n",
       "}\n",
       "</style>\n",
       "<table id=\"T_17b20\">\n",
       "  <thead>\n",
       "    <tr>\n",
       "      <th class=\"blank level0\" >&nbsp;</th>\n",
       "      <th id=\"T_17b20_level0_col0\" class=\"col_heading level0 col0\" >Average Type</th>\n",
       "      <th id=\"T_17b20_level0_col1\" class=\"col_heading level0 col1\" >precision</th>\n",
       "      <th id=\"T_17b20_level0_col2\" class=\"col_heading level0 col2\" >recall</th>\n",
       "      <th id=\"T_17b20_level0_col3\" class=\"col_heading level0 col3\" >f1-score</th>\n",
       "      <th id=\"T_17b20_level0_col4\" class=\"col_heading level0 col4\" >support</th>\n",
       "    </tr>\n",
       "  </thead>\n",
       "  <tbody>\n",
       "    <tr>\n",
       "      <th id=\"T_17b20_level0_row0\" class=\"row_heading level0 row0\" >0</th>\n",
       "      <td id=\"T_17b20_row0_col0\" class=\"data row0 col0\" >macro avg</td>\n",
       "      <td id=\"T_17b20_row0_col1\" class=\"data row0 col1\" >0.421</td>\n",
       "      <td id=\"T_17b20_row0_col2\" class=\"data row0 col2\" >0.237</td>\n",
       "      <td id=\"T_17b20_row0_col3\" class=\"data row0 col3\" >0.234</td>\n",
       "      <td id=\"T_17b20_row0_col4\" class=\"data row0 col4\" >9933.000</td>\n",
       "    </tr>\n",
       "    <tr>\n",
       "      <th id=\"T_17b20_level0_row1\" class=\"row_heading level0 row1\" >1</th>\n",
       "      <td id=\"T_17b20_row1_col0\" class=\"data row1 col0\" >weighted avg</td>\n",
       "      <td id=\"T_17b20_row1_col1\" class=\"data row1 col1\" >0.364</td>\n",
       "      <td id=\"T_17b20_row1_col2\" class=\"data row1 col2\" >0.344</td>\n",
       "      <td id=\"T_17b20_row1_col3\" class=\"data row1 col3\" >0.295</td>\n",
       "      <td id=\"T_17b20_row1_col4\" class=\"data row1 col4\" >9933.000</td>\n",
       "    </tr>\n",
       "  </tbody>\n",
       "</table>\n"
      ],
      "text/plain": [
       "<IPython.core.display.HTML object>"
      ]
     },
     "metadata": {},
     "output_type": "display_data"
    }
   ],
   "source": [
    "metrics_xgb, (y_test, y_pred, y_pred_proba, predictions_df) = evaluate_route_predictions_table(\n",
    "    xgb_model, \n",
    "    val_loader, \n",
    "    dataset, \"cpu\", \n",
    "    softmax=True,\n",
    "    plays_df=enriched_df,\n",
    "    feature_encoders=encoders, \n",
    "    scaler=scaler\n",
    ")\n",
    "metrics_xgb['display_tables']()"
   ]
  },
  {
   "cell_type": "markdown",
   "id": "fda1ee74-030c-4f36-b092-28c1af014584",
   "metadata": {},
   "source": [
    "# Analyze and Filter By Entropy\n",
    "\n",
    "- So far our models are not powerful enough to be useful.\n",
    "- So we should consider two metrics.\n",
    "- Single prediction entropy and play-average entropy.\n",
    "\n",
    "We can see in both instances that low entropy predictions, both by play AND by individual predictions are more accurate."
   ]
  },
  {
   "cell_type": "markdown",
   "id": "f51ac786-dcde-48c6-8e12-20c1ab67efb0",
   "metadata": {},
   "source": [
    "## GNN"
   ]
  },
  {
   "cell_type": "code",
   "execution_count": 17,
   "id": "8e1a3b8f-5040-408e-b960-519208b399d9",
   "metadata": {
    "jupyter": {
     "source_hidden": true
    }
   },
   "outputs": [
    {
     "name": "stdout",
     "output_type": "stream",
     "text": [
      "2022\n",
      "9933\n"
     ]
    },
    {
     "data": {
      "image/png": "[encoded data removed]",
      "text/plain": [
       "<Figure size 1200x1000 with 6 Axes>"
      ]
     },
     "metadata": {},
     "output_type": "display_data"
    }
   ],
   "source": [
    "fig, axs = plt.subplots(3, 2, figsize=(12, 10))\n",
    "\n",
    "# Now axs is a 2D array and you can either:\n",
    "# Method 1: Access using grid coordinates\n",
    "ax1 = axs[0, 0]\n",
    "ax2 = axs[1, 0]\n",
    "ax3 = axs[2, 0]\n",
    "ax4 = axs[0, 1]\n",
    "ax5 = axs[1, 1]\n",
    "ax6 = axs[2, 1]\n",
    "\n",
    "gnn_output_by_play = groupby_entropy_and_accuracy(metrics_gnn[\"predictions_df\"], k=100)\n",
    "plot_entropy_and_accuracy(\n",
    "    **gnn_output_by_play,\n",
    "    ax1=ax1, ax2=ax2, ax3=ax3,\n",
    "    title_update='Play',\n",
    "    plot_type='hist'\n",
    "    \n",
    ")\n",
    "\n",
    "gnn_output_by_pred = groupby_entropy_and_accuracy(metrics_gnn[\"predictions_df\"], k=100, extra_groupings=['player_id'])\n",
    "plot_entropy_and_accuracy(\n",
    "    **gnn_output_by_pred,\n",
    "    ax1=ax4,\n",
    "    ax2=ax5,\n",
    "    ax3=ax6,\n",
    "    title_update='Prediction',\n",
    "    plot_type='hist'\n",
    ")\n",
    "plt.tight_layout()\n",
    "plt.show()"
   ]
  },
  {
   "cell_type": "code",
   "execution_count": 39,
   "id": "80abb1ef-5d14-4e85-ba5b-dba7847d8d37",
   "metadata": {},
   "outputs": [
    {
     "name": "stdout",
     "output_type": "stream",
     "text": [
      "Initial DF size: 9933\n",
      "Final filtering size: 657\n",
      "\n",
      "=== Filtered by Row Entropy Only - Coverage: N = 9291/9933 93.54 % ===\n",
      "              precision    recall  f1-score   support\n",
      "\n",
      "           0       0.22      0.26      0.24       343\n",
      "           1       0.25      0.28      0.26       998\n",
      "           2       0.12      0.06      0.08       335\n",
      "           3       0.25      0.35      0.29       761\n",
      "           4       0.36      0.48      0.41      1197\n",
      "           5       0.31      0.46      0.37      1588\n",
      "           6       0.22      0.16      0.19      1206\n",
      "           7       0.12      0.06      0.08       651\n",
      "           8       0.17      0.11      0.13       815\n",
      "           9       0.15      0.11      0.13       501\n",
      "          10       0.19      0.08      0.11       362\n",
      "          11       0.15      0.07      0.09       498\n",
      "          12       0.00      0.00      0.00        36\n",
      "\n",
      "    accuracy                           0.26      9291\n",
      "   macro avg       0.19      0.19      0.18      9291\n",
      "weighted avg       0.23      0.26      0.24      9291\n",
      "\n",
      "Top-K Accuracy Metrics:\n",
      "Top-1 Accuracy: 0.259\n",
      "Top-2 Accuracy: 0.450\n",
      "Top-3 Accuracy: 0.596\n",
      "\n",
      "=== Filtered by Mean Play Entropy - Coverage: N = 697/9933 7.02 % ===\n",
      "              precision    recall  f1-score   support\n",
      "\n",
      "           0       0.35      0.44      0.39        18\n",
      "           1       0.54      0.74      0.63        77\n",
      "           2       0.83      0.23      0.36        22\n",
      "           3       0.53      0.60      0.56        65\n",
      "           4       0.67      0.74      0.70       105\n",
      "           5       0.61      0.80      0.69       142\n",
      "           6       0.61      0.48      0.54        95\n",
      "           7       0.46      0.25      0.32        44\n",
      "           8       0.41      0.36      0.38        50\n",
      "           9       0.27      0.23      0.25        26\n",
      "          10       0.42      0.22      0.29        23\n",
      "          11       0.30      0.10      0.15        29\n",
      "          12       0.00      0.00      0.00         1\n",
      "\n",
      "    accuracy                           0.56       697\n",
      "   macro avg       0.46      0.40      0.41       697\n",
      "weighted avg       0.55      0.56      0.54       697\n",
      "\n",
      "Top-K Accuracy Metrics:\n",
      "Top-1 Accuracy: 0.558\n",
      "Top-2 Accuracy: 0.677\n",
      "Top-3 Accuracy: 0.768\n",
      "\n",
      "=== Filtered by Both Play and Row Entropy - Coverage: N = 657/9933 6.61 % ===\n",
      "              precision    recall  f1-score   support\n",
      "\n",
      "           0       0.35      0.44      0.39        18\n",
      "           1       0.56      0.74      0.64        77\n",
      "           2       0.83      0.24      0.37        21\n",
      "           3       0.55      0.62      0.58        61\n",
      "           4       0.67      0.76      0.71       101\n",
      "           5       0.61      0.79      0.69       140\n",
      "           6       0.57      0.44      0.50        80\n",
      "           7       0.45      0.24      0.32        41\n",
      "           8       0.39      0.33      0.35        43\n",
      "           9       0.29      0.27      0.28        22\n",
      "          10       0.45      0.22      0.29        23\n",
      "          11       0.33      0.10      0.16        29\n",
      "          12       0.00      0.00      0.00         1\n",
      "\n",
      "    accuracy                           0.56       657\n",
      "   macro avg       0.47      0.40      0.41       657\n",
      "weighted avg       0.55      0.56      0.54       657\n",
      "\n",
      "Top-K Accuracy Metrics:\n",
      "Top-1 Accuracy: 0.562\n",
      "Top-2 Accuracy: 0.680\n",
      "Top-3 Accuracy: 0.773\n"
     ]
    }
   ],
   "source": [
    "accuracy_report_by_entropy(metrics_gnn[\"predictions_df\"], gnn_output_by_play, cutoff=2.1)"
   ]
  },
  {
   "cell_type": "code",
   "execution_count": 31,
   "id": "e4a5f3ea-ca11-4209-868f-b5d1aa523738",
   "metadata": {},
   "outputs": [
    {
     "name": "stdout",
     "output_type": "stream",
     "text": [
      "top1_accuracy: 0.33\n",
      "top2_accuracy: 0.53\n",
      "top3_accuracy: 0.65\n",
      "\n",
      "High Confidence Predictions (threshold >= 50.0%)\n",
      "Coverage: 16.8% (1,671 / 9,933 predictions)\n",
      "\n",
      "Top-3 Accuracy: 64.5%\n",
      "\n",
      "Classification Report:\n",
      "Class            Precision     Recall         F1    Support\n",
      "-------------------------------------------------------\n",
      "ANGLE                0.182      0.027      0.048       73.0\n",
      "BLOCKING             0.266      0.483      0.343      261.0\n",
      "CORNER               0.222      0.051      0.083       39.0\n",
      "CROSS                0.397      0.458      0.425      155.0\n",
      "FLAT                 0.415      0.671      0.512      340.0\n",
      "GO                   0.328      0.456      0.381      226.0\n",
      "HITCH                0.231      0.018      0.034      165.0\n",
      "IN                   0.286      0.025      0.045       81.0\n",
      "OUT                  0.056      0.010      0.017      103.0\n",
      "POST                 0.000      0.000      0.000       47.0\n",
      "SCREEN               0.288      0.190      0.229      100.0\n",
      "SLANT                0.074      0.028      0.041       71.0\n",
      "WHEEL                0.000      0.000      0.000       10.0\n"
     ]
    }
   ],
   "source": [
    "# Get metrics for high confidence predictions\n",
    "metrics = get_high_confidence_metrics(\n",
    "    metrics_gnn[\"predictions_df\"],\n",
    "    unique_routes=unique_routes,\n",
    "    confidence_threshold=0.5,\n",
    "    k=3\n",
    ")\n",
    "print_metrics_summary(metrics, 3)"
   ]
  },
  {
   "cell_type": "markdown",
   "id": "3905103f-0eea-4813-9ca5-6e02da3f5595",
   "metadata": {},
   "source": [
    "## XGB"
   ]
  },
  {
   "cell_type": "code",
   "execution_count": 19,
   "id": "75210016-2ed2-413f-8534-7f2b7da67d12",
   "metadata": {
    "jupyter": {
     "source_hidden": true
    }
   },
   "outputs": [
    {
     "name": "stdout",
     "output_type": "stream",
     "text": [
      "2022\n",
      "9933\n"
     ]
    },
    {
     "data": {
      "image/png": "[encoded data removed]",
      "text/plain": [
       "<Figure size 1200x1000 with 6 Axes>"
      ]
     },
     "metadata": {},
     "output_type": "display_data"
    }
   ],
   "source": [
    "fig, axs = plt.subplots(3, 2, figsize=(12, 10))\n",
    "\n",
    "# Now axs is a 2D array and you can either:\n",
    "# Method 1: Access using grid coordinates\n",
    "ax1 = axs[0, 0]\n",
    "ax2 = axs[1, 0]\n",
    "ax3 = axs[2, 0]\n",
    "ax4 = axs[0, 1]\n",
    "ax5 = axs[1, 1]\n",
    "ax6 = axs[2, 1]\n",
    "\n",
    "xgb_output_by_play = groupby_entropy_and_accuracy(metrics_xgb[\"predictions_df\"], k=100)\n",
    "plot_entropy_and_accuracy(\n",
    "    **xgb_output_by_play,\n",
    "    ax1=ax1, ax2=ax2, ax3=ax3,\n",
    "    title_update='Play',\n",
    "    plot_type='hist'\n",
    ")\n",
    "\n",
    "xgb_output_by_pred = groupby_entropy_and_accuracy(metrics_xgb[\"predictions_df\"], k=100, extra_groupings=['player_id'])\n",
    "plot_entropy_and_accuracy(\n",
    "    **xgb_output_by_pred,\n",
    "    ax1=ax4,\n",
    "    ax2=ax5,\n",
    "    ax3=ax6,\n",
    "    title_update='Prediction',\n",
    "    plot_type='hist'\n",
    ")\n",
    "plt.tight_layout()\n",
    "plt.show()"
   ]
  },
  {
   "cell_type": "code",
   "execution_count": 33,
   "id": "8547f52f-058a-48bd-88ec-1ce37a2b2599",
   "metadata": {},
   "outputs": [
    {
     "name": "stdout",
     "output_type": "stream",
     "text": [
      "Initial DF size: 9933\n",
      "Final filtering size: 362\n",
      "\n",
      "=== Filtered by Row Entropy Only - Coverage: N = 4630/9933 46.61 % ===\n",
      "              precision    recall  f1-score   support\n",
      "\n",
      "           0       0.47      0.05      0.09       342\n",
      "           1       0.50      0.40      0.44       732\n",
      "           2       0.25      0.02      0.04        53\n",
      "           3       0.52      0.54      0.53       205\n",
      "           4       0.45      0.88      0.59       928\n",
      "           5       0.41      0.89      0.56       806\n",
      "           6       0.43      0.10      0.16       441\n",
      "           7       0.64      0.03      0.06       225\n",
      "           8       0.38      0.02      0.04       226\n",
      "           9       0.50      0.02      0.05       125\n",
      "          10       0.71      0.15      0.24       245\n",
      "          11       0.53      0.07      0.12       264\n",
      "          12       0.83      0.13      0.23        38\n",
      "\n",
      "    accuracy                           0.45      4630\n",
      "   macro avg       0.51      0.25      0.24      4630\n",
      "weighted avg       0.48      0.45      0.36      4630\n",
      "\n",
      "Top-K Accuracy Metrics:\n",
      "Top-1 Accuracy: 0.447\n",
      "Top-2 Accuracy: 0.668\n",
      "Top-3 Accuracy: 0.808\n",
      "\n",
      "=== Filtered by Mean Play Entropy - Coverage: N = 698/9933 7.03 % ===\n",
      "              precision    recall  f1-score   support\n",
      "\n",
      "           0       0.75      0.25      0.38        12\n",
      "           1       0.80      0.78      0.79        97\n",
      "           2       0.83      0.26      0.40        19\n",
      "           3       0.60      0.74      0.66        68\n",
      "           4       0.70      0.83      0.76       116\n",
      "           5       0.70      0.90      0.79       157\n",
      "           6       0.58      0.74      0.65        93\n",
      "           7       0.50      0.10      0.17        30\n",
      "           8       0.64      0.38      0.48        47\n",
      "           9       0.50      0.23      0.31        22\n",
      "          10       1.00      0.38      0.56        13\n",
      "          11       1.00      0.09      0.17        22\n",
      "          12       1.00      1.00      1.00         2\n",
      "\n",
      "    accuracy                           0.68       698\n",
      "   macro avg       0.74      0.51      0.55       698\n",
      "weighted avg       0.69      0.68      0.65       698\n",
      "\n",
      "Top-K Accuracy Metrics:\n",
      "Top-1 Accuracy: 0.682\n",
      "Top-2 Accuracy: 0.785\n",
      "Top-3 Accuracy: 0.852\n",
      "\n",
      "=== Filtered by Both Play and Row Entropy - Coverage: N = 362/9933 3.64 % ===\n",
      "              precision    recall  f1-score   support\n",
      "\n",
      "           0       0.75      0.25      0.38        12\n",
      "           1       0.86      0.80      0.83        75\n",
      "           2       1.00      0.50      0.67         2\n",
      "           3       0.82      0.88      0.85        26\n",
      "           4       0.72      0.91      0.81        98\n",
      "           5       0.78      0.99      0.87        94\n",
      "           6       0.75      0.43      0.55        14\n",
      "           7       0.00      0.00      0.00         4\n",
      "           8       0.00      0.00      0.00        10\n",
      "           9       0.00      0.00      0.00         3\n",
      "          10       1.00      0.50      0.67        10\n",
      "          11       1.00      0.08      0.15        12\n",
      "          12       1.00      1.00      1.00         2\n",
      "\n",
      "    accuracy                           0.78       362\n",
      "   macro avg       0.67      0.49      0.52       362\n",
      "weighted avg       0.76      0.78      0.74       362\n",
      "\n",
      "Top-K Accuracy Metrics:\n",
      "Top-1 Accuracy: 0.782\n",
      "Top-2 Accuracy: 0.878\n",
      "Top-3 Accuracy: 0.928\n"
     ]
    }
   ],
   "source": [
    "accuracy_report_by_entropy(metrics_xgb[\"predictions_df\"], xgb_output_by_play, cutoff=2)"
   ]
  },
  {
   "cell_type": "markdown",
   "id": "3a0b6222-5d92-421f-a8f1-81d26e97cc99",
   "metadata": {},
   "source": [
    "## Top Metrics"
   ]
  },
  {
   "cell_type": "code",
   "execution_count": 35,
   "id": "2e1e7f27-20a5-4b86-ac13-599561fa3da9",
   "metadata": {},
   "outputs": [
    {
     "name": "stdout",
     "output_type": "stream",
     "text": [
      "top1_accuracy: 0.71\n",
      "top2_accuracy: 0.81\n",
      "top3_accuracy: 0.86\n",
      "dict_keys(['classification_report', 'top3_accuracy', 'coverage', 'n_predictions', 'n_total', 'confidence_threshold', 'debug_info'])\n",
      "\n",
      "High Confidence Predictions (threshold >= 55.0%)\n",
      "Coverage: 2.8% (282 / 9,933 predictions)\n",
      "\n",
      "Top-3 Accuracy: 85.8%\n",
      "\n",
      "Classification Report:\n",
      "Class            Precision     Recall         F1    Support\n",
      "-------------------------------------------------------\n",
      "ANGLE                0.400      0.182      0.250       11.0\n",
      "BLOCKING             0.675      0.852      0.754       61.0\n",
      "CORNER               0.000      0.000      0.000        6.0\n",
      "CROSS                0.680      0.723      0.701       47.0\n",
      "FLAT                 0.674      0.879      0.763       66.0\n",
      "GO                   0.833      0.778      0.805       45.0\n",
      "HITCH                0.000      0.000      0.000        6.0\n",
      "IN                   0.000      0.000      0.000        3.0\n",
      "OUT                  0.000      0.000      0.000        4.0\n",
      "POST                 1.000      0.500      0.667        2.0\n",
      "SCREEN               0.810      0.654      0.723       26.0\n",
      "SLANT                0.000      0.000      0.000        4.0\n",
      "WHEEL                0.000      0.000      0.000        1.0\n"
     ]
    }
   ],
   "source": [
    "# Get metrics for high confidence predictions\n",
    "metrics = get_high_confidence_metrics(\n",
    "    metrics_xgb[\"predictions_df\"],\n",
    "    unique_routes=unique_routes,\n",
    "    confidence_threshold=0.55,\n",
    "    k=3\n",
    ")\n",
    "\n",
    "print(metrics.keys())\n",
    "\n",
    "# Print formatted summary\n",
    "print_metrics_summary(metrics, 3)"
   ]
  },
  {
   "cell_type": "code",
   "execution_count": null,
   "id": "cf4a91dd-8d59-4015-9d5d-62998b3fb39c",
   "metadata": {},
   "outputs": [],
   "source": []
  }
 ],
 "metadata": {
  "kernelspec": {
   "display_name": "Python 3 (ipykernel)",
   "language": "python",
   "name": "python3"
  },
  "language_info": {
   "codemirror_mode": {
    "name": "ipython",
    "version": 3
   },
   "file_extension": ".py",
   "mimetype": "text/x-python",
   "name": "python",
   "nbconvert_exporter": "python",
   "pygments_lexer": "ipython3",
   "version": "3.9.18"
  }
 },
 "nbformat": 4,
 "nbformat_minor": 5
}
