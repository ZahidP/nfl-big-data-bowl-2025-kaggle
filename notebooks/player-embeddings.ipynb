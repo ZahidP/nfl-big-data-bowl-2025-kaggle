{
 "cells": [
  {
   "cell_type": "markdown",
   "id": "7ff6d105-47d8-45ed-9e90-d8a4da2d97b5",
   "metadata": {},
   "source": [
    "## This file is incomplete but if you load the appropriate model weights and imports it should work."
   ]
  },
  {
   "cell_type": "code",
   "execution_count": null,
   "id": "5fec7c35-527e-4037-a9e1-86ab97c2fd1e",
   "metadata": {},
   "outputs": [],
   "source": [
    "model.eval()\n",
    "# Convert your model to analyzable version if you haven't already\n",
    "analyzable_model = AnalyzablePlayGNN(\n",
    "    num_positions=20,\n",
    "    hidden_dim=48,\n",
    "    num_gnn_layers=3,\n",
    "    num_route_classes=dataset.num_route_classes, # for -1 or NaN\n",
    "    dropout=0.05,\n",
    "    max_downs=4,\n",
    "    max_quarters=5,\n",
    "    num_teams=32,\n",
    ")\n",
    "analyzable_model.load_state_dict(model.state_dict())"
   ]
  },
  {
   "cell_type": "code",
   "execution_count": null,
   "id": "00a3b331-ed81-43da-a845-3837dfc25d65",
   "metadata": {},
   "outputs": [],
   "source": [
    "from nfl_data_bowl.utils.embedding_visualization import visualize_player_embeddings, analyze_clusters"
   ]
  },
  {
   "cell_type": "code",
   "execution_count": null,
   "id": "9e212ee0-ddf7-454a-859c-b181e492fcd1",
   "metadata": {},
   "outputs": [],
   "source": [
    "# Create visualization\n",
    "fig, embeddings_df = visualize_player_embeddings(analyzable_model, \n",
    "            tracking_passing_only[tracking_passing_only.position.isin((\"WR\", \"TE\"))].drop_duplicates(subset=['nflId'])[0:40]\n",
    ")\n",
    "\n",
    "# Save the plot\n",
    "fig.show()\n",
    "\n",
    "# Optionally analyze clusters to find similar players\n",
    "neighbors_df = analyze_clusters(embeddings_df)\n",
    "print(\"Most similar players to each player:\")\n",
    "print(neighbors_df.head())"
   ]
  },
  {
   "cell_type": "code",
   "execution_count": null,
   "id": "70823463-db43-4893-922a-6b16318f887e",
   "metadata": {},
   "outputs": [],
   "source": [
    "route_counts = tracking_passing_only[tracking_passing_only.displayName_x.isin(('T.J. Hockenson', 'Stefon Diggs'))].groupby('displayName_x')['routeRan'].value_counts()\n",
    "route_counts"
   ]
  },
  {
   "cell_type": "code",
   "execution_count": null,
   "id": "b2e1d13a-4cfa-4a28-b278-98b743615618",
   "metadata": {},
   "outputs": [],
   "source": []
  }
 ],
 "metadata": {
  "kernelspec": {
   "display_name": "Python 3 (ipykernel)",
   "language": "python",
   "name": "python3"
  },
  "language_info": {
   "codemirror_mode": {
    "name": "ipython",
    "version": 3
   },
   "file_extension": ".py",
   "mimetype": "text/x-python",
   "name": "python",
   "nbconvert_exporter": "python",
   "pygments_lexer": "ipython3",
   "version": "3.9.18"
  }
 },
 "nbformat": 4,
 "nbformat_minor": 5
}
